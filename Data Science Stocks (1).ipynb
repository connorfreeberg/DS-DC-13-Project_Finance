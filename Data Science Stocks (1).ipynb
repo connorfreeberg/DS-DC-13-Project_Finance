{
 "cells": [
  {
   "cell_type": "raw",
   "metadata": {
    "collapsed": false
   },
   "source": [
    "import cPickle\n",
    "import numpy as np\n",
    "import pandas as pd\n",
    "import datetime\n",
    "import datetime\n",
    "import numpy as np\n",
    "import pandas as pd\n",
    "import sklearn\n",
    "import pandas.io.data as web\n",
    "import seaborn as sns\n",
    "\n",
    "from sklearn.linear_model import LogisticRegression\n",
    "from sklearn.lda import LDA\n",
    "from sklearn.qda import QDA\n",
    "from sklearn import ensemble\n",
    "from sklearn import preprocessing\n",
    "from sklearn import cross_validation\n",
    "from sklearn import grid_search\n",
    "from datetime import datetime\n",
    "from sklearn.ensemble import RandomForestClassifier\n",
    "from sklearn import neighbors\n",
    "from sklearn.ensemble import AdaBoostClassifier\n",
    "from sklearn.ensemble import GradientBoostingClassifier\n",
    "from sklearn.svm import SVC\n",
    "import operator\n",
    "import re\n",
    "from dateutil import parser\n",
    "from datetime import datetime\n",
    "import matplotlib\n",
    "import matplotlib.pyplot as plt\n",
    "%matplotlib inline"
   ]
  },
  {
   "cell_type": "markdown",
   "metadata": {},
   "source": [
    "# Stock Market Forecast"
   ]
  },
  {
   "cell_type": "markdown",
   "metadata": {},
   "source": [
    "Welcome to my project, where in general terms I try and predict the movements of the stock market through the S&P 500. Throughout the project I will look at ways to try and improve my probability, or \"hit score\" as called by others, of predicting an up or down day for the S&P500. This means that looking at the daily returns of the S&P500, i.e. negative daily return or positive daily return, I can trade accordingly. Below we will start with visualizations of the predictors. "
   ]
  },
  {
   "cell_type": "markdown",
   "metadata": {},
   "source": [
    "As you can see above the Nasdaq will be a very strong predictor of the movements of the S&P500. The Dow Jones will also be another strong predictor. However, if you look at the returns of the three indices you will see that while the overall graphs look to have similar movements with steady increases over time, the day to day returns vary with the DOW having an up day and the nasdaq having a down day. Looking at other indices will help accout for those days."
   ]
  },
  {
   "cell_type": "code",
   "execution_count": null,
   "metadata": {
    "collapsed": false
   },
   "outputs": [],
   "source": [
    "# counts the number NAN values\n",
    "def count_NANs(dataframe):\n",
    "    \"\"\"\n",
    "    count number of NaN in dataframe\n",
    "    \"\"\"\n",
    "    return (dataframe.shape[0] * dataframe.shape[1]) - dataframe.count().sum()\n"
   ]
  },
  {
   "cell_type": "code",
   "execution_count": 1073,
   "metadata": {
    "collapsed": false
   },
   "outputs": [
    {
     "data": {
      "text/html": [
       "<div>\n",
       "<table border=\"1\" class=\"dataframe\">\n",
       "  <thead>\n",
       "    <tr style=\"text-align: right;\">\n",
       "      <th></th>\n",
       "      <th>AdjClose_^N225</th>\n",
       "      <th>Return_^N225</th>\n",
       "    </tr>\n",
       "    <tr>\n",
       "      <th>Date</th>\n",
       "      <th></th>\n",
       "      <th></th>\n",
       "    </tr>\n",
       "  </thead>\n",
       "  <tbody>\n",
       "  </tbody>\n",
       "</table>\n",
       "</div>"
      ],
      "text/plain": [
       "Empty DataFrame\n",
       "Columns: [AdjClose_^N225, Return_^N225]\n",
       "Index: []"
      ]
     },
     "execution_count": 1073,
     "metadata": {},
     "output_type": "execute_result"
    }
   ],
   "source": [
    "\n"
   ]
  },
  {
   "cell_type": "markdown",
   "metadata": {},
   "source": [
    "The function below grabs all the variabls/indices I chose to represent/predict the market. I decided to add a high yield treasure bond indice because there is a known belief that high correlation exists between high yield bonds and the S&P500. The rest represent major markets throughout the world that have close ties to the U.S. stock market. The function \"create_lagged_series\" creates the lag for those functions"
   ]
  },
  {
   "cell_type": "code",
   "execution_count": 756,
   "metadata": {
    "collapsed": true
   },
   "outputs": [],
   "source": [
    "def getWebData(symbol,start,end):\n",
    "    df= DataReader(name=symbol,data_source='yahoo',start=start,end=end)\n",
    "    df.columns.values[-1] = 'AdjClose'\n",
    "    df.columns = df.columns + '_' + symbol\n",
    "    df['Return_%s' %symbol] = df['AdjClose_%s' %symbol].pct_change()\n",
    "    df=df[['AdjClose_%s' %symbol,'Return_%s' %symbol]]\n",
    "    return df"
   ]
  },
  {
   "cell_type": "code",
   "execution_count": 1117,
   "metadata": {
    "collapsed": false
   },
   "outputs": [
    {
     "data": {
      "text/html": [
       "<div>\n",
       "<table border=\"1\" class=\"dataframe\">\n",
       "  <thead>\n",
       "    <tr style=\"text-align: right;\">\n",
       "      <th></th>\n",
       "      <th>AdjClose_^MCX</th>\n",
       "      <th>Return_^MCX</th>\n",
       "    </tr>\n",
       "    <tr>\n",
       "      <th>Date</th>\n",
       "      <th></th>\n",
       "      <th></th>\n",
       "    </tr>\n",
       "  </thead>\n",
       "  <tbody>\n",
       "    <tr>\n",
       "      <th>2013-03-04</th>\n",
       "      <td>1464.449951</td>\n",
       "      <td>NaN</td>\n",
       "    </tr>\n",
       "    <tr>\n",
       "      <th>2013-03-05</th>\n",
       "      <td>1486.420044</td>\n",
       "      <td>0.015002</td>\n",
       "    </tr>\n",
       "    <tr>\n",
       "      <th>2013-03-06</th>\n",
       "      <td>1491.489990</td>\n",
       "      <td>0.003411</td>\n",
       "    </tr>\n",
       "    <tr>\n",
       "      <th>2013-03-07</th>\n",
       "      <td>1491.349976</td>\n",
       "      <td>-0.000094</td>\n",
       "    </tr>\n",
       "    <tr>\n",
       "      <th>2013-03-11</th>\n",
       "      <td>1505.930054</td>\n",
       "      <td>0.009776</td>\n",
       "    </tr>\n",
       "    <tr>\n",
       "      <th>2013-03-12</th>\n",
       "      <td>1499.739990</td>\n",
       "      <td>-0.004110</td>\n",
       "    </tr>\n",
       "    <tr>\n",
       "      <th>2013-03-13</th>\n",
       "      <td>1495.880005</td>\n",
       "      <td>-0.002574</td>\n",
       "    </tr>\n",
       "    <tr>\n",
       "      <th>2013-03-14</th>\n",
       "      <td>1502.520020</td>\n",
       "      <td>0.004439</td>\n",
       "    </tr>\n",
       "    <tr>\n",
       "      <th>2013-03-15</th>\n",
       "      <td>1496.569946</td>\n",
       "      <td>-0.003960</td>\n",
       "    </tr>\n",
       "    <tr>\n",
       "      <th>2013-03-18</th>\n",
       "      <td>1462.560059</td>\n",
       "      <td>-0.022725</td>\n",
       "    </tr>\n",
       "    <tr>\n",
       "      <th>2013-03-19</th>\n",
       "      <td>1445.339966</td>\n",
       "      <td>-0.011774</td>\n",
       "    </tr>\n",
       "    <tr>\n",
       "      <th>2013-03-20</th>\n",
       "      <td>1458.790039</td>\n",
       "      <td>0.009306</td>\n",
       "    </tr>\n",
       "    <tr>\n",
       "      <th>2013-03-21</th>\n",
       "      <td>1458.520020</td>\n",
       "      <td>-0.000185</td>\n",
       "    </tr>\n",
       "    <tr>\n",
       "      <th>2013-03-22</th>\n",
       "      <td>1440.989990</td>\n",
       "      <td>-0.012019</td>\n",
       "    </tr>\n",
       "    <tr>\n",
       "      <th>2013-03-26</th>\n",
       "      <td>1420.020020</td>\n",
       "      <td>-0.014552</td>\n",
       "    </tr>\n",
       "    <tr>\n",
       "      <th>2013-03-27</th>\n",
       "      <td>1424.550049</td>\n",
       "      <td>0.003190</td>\n",
       "    </tr>\n",
       "    <tr>\n",
       "      <th>2013-03-28</th>\n",
       "      <td>1436.619995</td>\n",
       "      <td>0.008473</td>\n",
       "    </tr>\n",
       "    <tr>\n",
       "      <th>2013-04-01</th>\n",
       "      <td>1427.709961</td>\n",
       "      <td>-0.006202</td>\n",
       "    </tr>\n",
       "    <tr>\n",
       "      <th>2013-04-02</th>\n",
       "      <td>1428.680054</td>\n",
       "      <td>0.000679</td>\n",
       "    </tr>\n",
       "    <tr>\n",
       "      <th>2013-04-03</th>\n",
       "      <td>1420.959961</td>\n",
       "      <td>-0.005404</td>\n",
       "    </tr>\n",
       "    <tr>\n",
       "      <th>2013-04-04</th>\n",
       "      <td>1427.969971</td>\n",
       "      <td>0.004933</td>\n",
       "    </tr>\n",
       "    <tr>\n",
       "      <th>2013-04-05</th>\n",
       "      <td>1417.660034</td>\n",
       "      <td>-0.007220</td>\n",
       "    </tr>\n",
       "    <tr>\n",
       "      <th>2013-04-08</th>\n",
       "      <td>1411.290039</td>\n",
       "      <td>-0.004493</td>\n",
       "    </tr>\n",
       "    <tr>\n",
       "      <th>2013-04-09</th>\n",
       "      <td>1425.719971</td>\n",
       "      <td>0.010225</td>\n",
       "    </tr>\n",
       "    <tr>\n",
       "      <th>2013-04-10</th>\n",
       "      <td>1426.939941</td>\n",
       "      <td>0.000856</td>\n",
       "    </tr>\n",
       "    <tr>\n",
       "      <th>2013-04-11</th>\n",
       "      <td>1401.459961</td>\n",
       "      <td>-0.017856</td>\n",
       "    </tr>\n",
       "    <tr>\n",
       "      <th>2013-04-12</th>\n",
       "      <td>1386.560059</td>\n",
       "      <td>-0.010632</td>\n",
       "    </tr>\n",
       "    <tr>\n",
       "      <th>2013-04-15</th>\n",
       "      <td>1354.349976</td>\n",
       "      <td>-0.023230</td>\n",
       "    </tr>\n",
       "    <tr>\n",
       "      <th>2013-04-16</th>\n",
       "      <td>1354.439941</td>\n",
       "      <td>0.000066</td>\n",
       "    </tr>\n",
       "    <tr>\n",
       "      <th>2013-04-17</th>\n",
       "      <td>1339.400024</td>\n",
       "      <td>-0.011104</td>\n",
       "    </tr>\n",
       "    <tr>\n",
       "      <th>...</th>\n",
       "      <td>...</td>\n",
       "      <td>...</td>\n",
       "    </tr>\n",
       "    <tr>\n",
       "      <th>2015-11-18</th>\n",
       "      <td>1810.479980</td>\n",
       "      <td>0.013009</td>\n",
       "    </tr>\n",
       "    <tr>\n",
       "      <th>2015-11-19</th>\n",
       "      <td>1811.199951</td>\n",
       "      <td>0.000398</td>\n",
       "    </tr>\n",
       "    <tr>\n",
       "      <th>2015-11-20</th>\n",
       "      <td>1826.719971</td>\n",
       "      <td>0.008569</td>\n",
       "    </tr>\n",
       "    <tr>\n",
       "      <th>2015-11-23</th>\n",
       "      <td>1868.069946</td>\n",
       "      <td>0.022636</td>\n",
       "    </tr>\n",
       "    <tr>\n",
       "      <th>2015-11-24</th>\n",
       "      <td>1810.050049</td>\n",
       "      <td>-0.031059</td>\n",
       "    </tr>\n",
       "    <tr>\n",
       "      <th>2015-11-25</th>\n",
       "      <td>1833.530029</td>\n",
       "      <td>0.012972</td>\n",
       "    </tr>\n",
       "    <tr>\n",
       "      <th>2015-11-26</th>\n",
       "      <td>1828.300049</td>\n",
       "      <td>-0.002852</td>\n",
       "    </tr>\n",
       "    <tr>\n",
       "      <th>2015-11-27</th>\n",
       "      <td>1795.699951</td>\n",
       "      <td>-0.017831</td>\n",
       "    </tr>\n",
       "    <tr>\n",
       "      <th>2015-11-30</th>\n",
       "      <td>1771.050049</td>\n",
       "      <td>-0.013727</td>\n",
       "    </tr>\n",
       "    <tr>\n",
       "      <th>2015-12-01</th>\n",
       "      <td>1772.969971</td>\n",
       "      <td>0.001084</td>\n",
       "    </tr>\n",
       "    <tr>\n",
       "      <th>2015-12-02</th>\n",
       "      <td>1770.130005</td>\n",
       "      <td>-0.001602</td>\n",
       "    </tr>\n",
       "    <tr>\n",
       "      <th>2015-12-03</th>\n",
       "      <td>1787.229980</td>\n",
       "      <td>0.009660</td>\n",
       "    </tr>\n",
       "    <tr>\n",
       "      <th>2015-12-04</th>\n",
       "      <td>1755.219971</td>\n",
       "      <td>-0.017910</td>\n",
       "    </tr>\n",
       "    <tr>\n",
       "      <th>2015-12-07</th>\n",
       "      <td>1741.140015</td>\n",
       "      <td>-0.008022</td>\n",
       "    </tr>\n",
       "    <tr>\n",
       "      <th>2015-12-08</th>\n",
       "      <td>1718.770020</td>\n",
       "      <td>-0.012848</td>\n",
       "    </tr>\n",
       "    <tr>\n",
       "      <th>2015-12-09</th>\n",
       "      <td>1733.089966</td>\n",
       "      <td>0.008332</td>\n",
       "    </tr>\n",
       "    <tr>\n",
       "      <th>2015-12-10</th>\n",
       "      <td>1732.890015</td>\n",
       "      <td>-0.000115</td>\n",
       "    </tr>\n",
       "    <tr>\n",
       "      <th>2015-12-11</th>\n",
       "      <td>1720.310059</td>\n",
       "      <td>-0.007260</td>\n",
       "    </tr>\n",
       "    <tr>\n",
       "      <th>2015-12-14</th>\n",
       "      <td>1708.699951</td>\n",
       "      <td>-0.006749</td>\n",
       "    </tr>\n",
       "    <tr>\n",
       "      <th>2015-12-15</th>\n",
       "      <td>1742.459961</td>\n",
       "      <td>0.019758</td>\n",
       "    </tr>\n",
       "    <tr>\n",
       "      <th>2015-12-16</th>\n",
       "      <td>1754.709961</td>\n",
       "      <td>0.007030</td>\n",
       "    </tr>\n",
       "    <tr>\n",
       "      <th>2015-12-17</th>\n",
       "      <td>1780.969971</td>\n",
       "      <td>0.014965</td>\n",
       "    </tr>\n",
       "    <tr>\n",
       "      <th>2015-12-18</th>\n",
       "      <td>1719.160034</td>\n",
       "      <td>-0.034706</td>\n",
       "    </tr>\n",
       "    <tr>\n",
       "      <th>2015-12-21</th>\n",
       "      <td>1716.910034</td>\n",
       "      <td>-0.001309</td>\n",
       "    </tr>\n",
       "    <tr>\n",
       "      <th>2015-12-22</th>\n",
       "      <td>1723.349976</td>\n",
       "      <td>0.003751</td>\n",
       "    </tr>\n",
       "    <tr>\n",
       "      <th>2015-12-23</th>\n",
       "      <td>1747.849976</td>\n",
       "      <td>0.014216</td>\n",
       "    </tr>\n",
       "    <tr>\n",
       "      <th>2015-12-24</th>\n",
       "      <td>1742.709961</td>\n",
       "      <td>-0.002941</td>\n",
       "    </tr>\n",
       "    <tr>\n",
       "      <th>2015-12-28</th>\n",
       "      <td>1731.199951</td>\n",
       "      <td>-0.006605</td>\n",
       "    </tr>\n",
       "    <tr>\n",
       "      <th>2015-12-29</th>\n",
       "      <td>1763.380005</td>\n",
       "      <td>0.018588</td>\n",
       "    </tr>\n",
       "    <tr>\n",
       "      <th>2015-12-30</th>\n",
       "      <td>1761.359985</td>\n",
       "      <td>-0.001146</td>\n",
       "    </tr>\n",
       "  </tbody>\n",
       "</table>\n",
       "<p>691 rows × 2 columns</p>\n",
       "</div>"
      ],
      "text/plain": [
       "            AdjClose_^MCX  Return_^MCX\n",
       "Date                                  \n",
       "2013-03-04    1464.449951          NaN\n",
       "2013-03-05    1486.420044     0.015002\n",
       "2013-03-06    1491.489990     0.003411\n",
       "2013-03-07    1491.349976    -0.000094\n",
       "2013-03-11    1505.930054     0.009776\n",
       "2013-03-12    1499.739990    -0.004110\n",
       "2013-03-13    1495.880005    -0.002574\n",
       "2013-03-14    1502.520020     0.004439\n",
       "2013-03-15    1496.569946    -0.003960\n",
       "2013-03-18    1462.560059    -0.022725\n",
       "2013-03-19    1445.339966    -0.011774\n",
       "2013-03-20    1458.790039     0.009306\n",
       "2013-03-21    1458.520020    -0.000185\n",
       "2013-03-22    1440.989990    -0.012019\n",
       "2013-03-26    1420.020020    -0.014552\n",
       "2013-03-27    1424.550049     0.003190\n",
       "2013-03-28    1436.619995     0.008473\n",
       "2013-04-01    1427.709961    -0.006202\n",
       "2013-04-02    1428.680054     0.000679\n",
       "2013-04-03    1420.959961    -0.005404\n",
       "2013-04-04    1427.969971     0.004933\n",
       "2013-04-05    1417.660034    -0.007220\n",
       "2013-04-08    1411.290039    -0.004493\n",
       "2013-04-09    1425.719971     0.010225\n",
       "2013-04-10    1426.939941     0.000856\n",
       "2013-04-11    1401.459961    -0.017856\n",
       "2013-04-12    1386.560059    -0.010632\n",
       "2013-04-15    1354.349976    -0.023230\n",
       "2013-04-16    1354.439941     0.000066\n",
       "2013-04-17    1339.400024    -0.011104\n",
       "...                   ...          ...\n",
       "2015-11-18    1810.479980     0.013009\n",
       "2015-11-19    1811.199951     0.000398\n",
       "2015-11-20    1826.719971     0.008569\n",
       "2015-11-23    1868.069946     0.022636\n",
       "2015-11-24    1810.050049    -0.031059\n",
       "2015-11-25    1833.530029     0.012972\n",
       "2015-11-26    1828.300049    -0.002852\n",
       "2015-11-27    1795.699951    -0.017831\n",
       "2015-11-30    1771.050049    -0.013727\n",
       "2015-12-01    1772.969971     0.001084\n",
       "2015-12-02    1770.130005    -0.001602\n",
       "2015-12-03    1787.229980     0.009660\n",
       "2015-12-04    1755.219971    -0.017910\n",
       "2015-12-07    1741.140015    -0.008022\n",
       "2015-12-08    1718.770020    -0.012848\n",
       "2015-12-09    1733.089966     0.008332\n",
       "2015-12-10    1732.890015    -0.000115\n",
       "2015-12-11    1720.310059    -0.007260\n",
       "2015-12-14    1708.699951    -0.006749\n",
       "2015-12-15    1742.459961     0.019758\n",
       "2015-12-16    1754.709961     0.007030\n",
       "2015-12-17    1780.969971     0.014965\n",
       "2015-12-18    1719.160034    -0.034706\n",
       "2015-12-21    1716.910034    -0.001309\n",
       "2015-12-22    1723.349976     0.003751\n",
       "2015-12-23    1747.849976     0.014216\n",
       "2015-12-24    1742.709961    -0.002941\n",
       "2015-12-28    1731.199951    -0.006605\n",
       "2015-12-29    1763.380005     0.018588\n",
       "2015-12-30    1761.359985    -0.001146\n",
       "\n",
       "[691 rows x 2 columns]"
      ]
     },
     "execution_count": 1117,
     "metadata": {},
     "output_type": "execute_result"
    }
   ],
   "source": [
    "getWebData('^MCX','2012-1-1','2015-12-31')"
   ]
  },
  {
   "cell_type": "code",
   "execution_count": 1193,
   "metadata": {
    "collapsed": false
   },
   "outputs": [],
   "source": [
    "def getAllStockData(output):\n",
    "    \n",
    "    start=parser.parse('2006-1-1')\n",
    "    end=parser.parse('2016-1-1')\n",
    "    \n",
    "    nikkei=getWebData('^N225',start,end)\n",
    "    nasdaq=getWebData('^IXIC',start,end)\n",
    "    frankfurt=getWebData('^GDAXI',start,end)\n",
    "    london=getWebData('^MCX',start,end)\n",
    "    paris=getWebData('^FCHI',start,end)\n",
    "    hkong=getWebData('^HSI',start,end)\n",
    "    technology=getWebData('VGT',start,end)\n",
    "    australia=getWebData('^AXJO',start,end)\n",
    "    energy=getWebData('VDE',start,end)\n",
    "    djia=getWebData('^DJI',start,end)\n",
    "    \n",
    "    bond=getWebData('JNK',start,end)\n",
    "    \n",
    "   \n",
    "    out=getWebData(output,start,end)\n",
    "    \n",
    "    \n",
    "    frames=[nikkei,nasdaq, frankfurt,london,paris,hkong,technology,australia,energy,djia,bond,out]\n",
    "    \n",
    "    return frames"
   ]
  },
  {
   "cell_type": "code",
   "execution_count": 1194,
   "metadata": {
    "collapsed": true
   },
   "outputs": [],
   "source": [
    "\n",
    "def addFeatures(dataframe, adjclose, returns, n):\n",
    "    \"\"\"\n",
    "    operates on two columns of dataframe:\n",
    "    - n >= 2\n",
    "    - given Return_* computes the return of day i respect to day i-n. \n",
    "    - given AdjClose_* computes its moving average on n days\n",
    " \n",
    "    \"\"\"\n",
    "    \n",
    "    return_n = adjclose[9:] + \"_MultiDay\" + str(n)\n",
    "    dataframe[return_n] = dataframe[adjclose].pct_change(n)\n",
    "    \n",
    "    roll_n = returns[7:] + \"_RolMean\" + str(n)\n",
    "    dataframe[roll_n] = pd.rolling_mean(dataframe[returns], n)"
   ]
  },
  {
   "cell_type": "code",
   "execution_count": 1195,
   "metadata": {
    "collapsed": true
   },
   "outputs": [],
   "source": [
    "def applyRollMeanDelayedReturns(datasets, delta):\n",
    "    \"\"\"\n",
    "    applies rolling mean and delayed returns to each dataframe in the list\n",
    "    \"\"\"\n",
    "    for dataset in datasets:\n",
    "        columns = dataset.columns    \n",
    "        adjclose = columns[0]\n",
    "        returns = columns[1]\n",
    "        for n in delta:\n",
    "            addFeatures(dataset, adjclose, returns, n)\n",
    "    \n",
    "    return datasets   "
   ]
  },
  {
   "cell_type": "code",
   "execution_count": 1196,
   "metadata": {
    "collapsed": true
   },
   "outputs": [],
   "source": [
    "def mergeDataframes(datasets, index):\n",
    "    \n",
    "    subset = []\n",
    "    subset = [dataset.iloc[:, index:] for dataset in datasets[1:]]\n",
    "    \n",
    "    first = subset[0].join(subset[1:], how = 'outer')\n",
    "    finance = datasets[0].iloc[:, index:].join(first, how = 'left') \n",
    "    \n",
    "    return finance"
   ]
  },
  {
   "cell_type": "code",
   "execution_count": 1197,
   "metadata": {
    "collapsed": true
   },
   "outputs": [],
   "source": [
    "def fit_model(name, model, X_train, y_train, X_test, pred):\n",
    "    \"\"\"Fits a classification model (for our purposes this is LR, LDA and QDA)\n",
    "    using the training data, then makes a prediction and subsequent \"hit rate\"\n",
    "    for the test data.\"\"\"\n",
    "\n",
    "    model.fit(X_train, y_train)\n",
    "    pred[name] = model.predict(X_test)\n",
    "\n",
    "    # Create a series with 1 being correct direction, 0 being wrong\n",
    "    # and then calculate the hit rate based on the actual direction\n",
    "    pred[\"%s_Correct\" % name] = (1.0+pred[name]*pred[\"Actual\"])/2.0\n",
    "    hit_rate = np.mean(pred[\"%s_Correct\" % name])\n",
    "    print \"%s: %.3f\" % (name, hit_rate)"
   ]
  },
  {
   "cell_type": "code",
   "execution_count": 1213,
   "metadata": {
    "collapsed": false
   },
   "outputs": [
    {
     "name": "stderr",
     "output_type": "stream",
     "text": [
      "/Users/connorfreeberg/anaconda2/lib/python2.7/site-packages/ipykernel/__main__.py:15: FutureWarning: pd.rolling_mean is deprecated for Series and will be removed in a future version, replace with \n",
      "\tSeries.rolling(window=1,center=False).mean()\n",
      "/Users/connorfreeberg/anaconda2/lib/python2.7/site-packages/ipykernel/__main__.py:15: FutureWarning: pd.rolling_mean is deprecated for Series and will be removed in a future version, replace with \n",
      "\tSeries.rolling(window=2,center=False).mean()\n",
      "/Users/connorfreeberg/anaconda2/lib/python2.7/site-packages/ipykernel/__main__.py:15: FutureWarning: pd.rolling_mean is deprecated for Series and will be removed in a future version, replace with \n",
      "\tSeries.rolling(window=3,center=False).mean()\n",
      "/Users/connorfreeberg/anaconda2/lib/python2.7/site-packages/ipykernel/__main__.py:15: FutureWarning: pd.rolling_mean is deprecated for Series and will be removed in a future version, replace with \n",
      "\tSeries.rolling(window=4,center=False).mean()\n",
      "/Users/connorfreeberg/anaconda2/lib/python2.7/site-packages/ipykernel/__main__.py:15: FutureWarning: pd.rolling_mean is deprecated for Series and will be removed in a future version, replace with \n",
      "\tSeries.rolling(window=5,center=False).mean()\n",
      "/Users/connorfreeberg/anaconda2/lib/python2.7/site-packages/ipykernel/__main__.py:15: FutureWarning: pd.rolling_mean is deprecated for Series and will be removed in a future version, replace with \n",
      "\tSeries.rolling(window=6,center=False).mean()\n",
      "/Users/connorfreeberg/anaconda2/lib/python2.7/site-packages/ipykernel/__main__.py:15: FutureWarning: pd.rolling_mean is deprecated for Series and will be removed in a future version, replace with \n",
      "\tSeries.rolling(window=7,center=False).mean()\n",
      "/Users/connorfreeberg/anaconda2/lib/python2.7/site-packages/ipykernel/__main__.py:15: FutureWarning: pd.rolling_mean is deprecated for Series and will be removed in a future version, replace with \n",
      "\tSeries.rolling(window=8,center=False).mean()\n",
      "/Users/connorfreeberg/anaconda2/lib/python2.7/site-packages/ipykernel/__main__.py:15: FutureWarning: pd.rolling_mean is deprecated for Series and will be removed in a future version, replace with \n",
      "\tSeries.rolling(window=9,center=False).mean()\n",
      "/Users/connorfreeberg/anaconda2/lib/python2.7/site-packages/ipykernel/__main__.py:15: FutureWarning: pd.rolling_mean is deprecated for Series and will be removed in a future version, replace with \n",
      "\tSeries.rolling(window=10,center=False).mean()\n",
      "/Users/connorfreeberg/anaconda2/lib/python2.7/site-packages/ipykernel/__main__.py:15: FutureWarning: pd.rolling_mean is deprecated for Series and will be removed in a future version, replace with \n",
      "\tSeries.rolling(window=11,center=False).mean()\n",
      "/Users/connorfreeberg/anaconda2/lib/python2.7/site-packages/ipykernel/__main__.py:15: FutureWarning: pd.rolling_mean is deprecated for Series and will be removed in a future version, replace with \n",
      "\tSeries.rolling(window=12,center=False).mean()\n",
      "/Users/connorfreeberg/anaconda2/lib/python2.7/site-packages/ipykernel/__main__.py:15: FutureWarning: pd.rolling_mean is deprecated for Series and will be removed in a future version, replace with \n",
      "\tSeries.rolling(window=13,center=False).mean()\n",
      "/Users/connorfreeberg/anaconda2/lib/python2.7/site-packages/ipykernel/__main__.py:15: FutureWarning: pd.rolling_mean is deprecated for Series and will be removed in a future version, replace with \n",
      "\tSeries.rolling(window=14,center=False).mean()\n",
      "/Users/connorfreeberg/anaconda2/lib/python2.7/site-packages/ipykernel/__main__.py:15: FutureWarning: pd.rolling_mean is deprecated for Series and will be removed in a future version, replace with \n",
      "\tSeries.rolling(window=15,center=False).mean()\n",
      "/Users/connorfreeberg/anaconda2/lib/python2.7/site-packages/ipykernel/__main__.py:15: FutureWarning: pd.rolling_mean is deprecated for Series and will be removed in a future version, replace with \n",
      "\tSeries.rolling(window=16,center=False).mean()\n",
      "/Users/connorfreeberg/anaconda2/lib/python2.7/site-packages/ipykernel/__main__.py:15: FutureWarning: pd.rolling_mean is deprecated for Series and will be removed in a future version, replace with \n",
      "\tSeries.rolling(window=17,center=False).mean()\n",
      "/Users/connorfreeberg/anaconda2/lib/python2.7/site-packages/ipykernel/__main__.py:15: FutureWarning: pd.rolling_mean is deprecated for Series and will be removed in a future version, replace with \n",
      "\tSeries.rolling(window=18,center=False).mean()\n",
      "/Users/connorfreeberg/anaconda2/lib/python2.7/site-packages/ipykernel/__main__.py:15: FutureWarning: pd.rolling_mean is deprecated for Series and will be removed in a future version, replace with \n",
      "\tSeries.rolling(window=19,center=False).mean()\n"
     ]
    }
   ],
   "source": [
    "dataStocks3=getAllStockData('^GSPC')\n",
    "\n",
    "dataStocks3=applyRollMeanDelayedReturns(dataStocks3,range(1,20))\n",
    "dataStocks3=mergeDataframes(dataStocks3,0)\n",
    "dataStocks3=dataStocks3.reset_index()\n",
    "dataStocks3['Weekday'] = dataStocks3['Date'].dt.dayofweek\n",
    "dataStocks3=dataStocks3.set_index('Date')\n",
    "cols=list(dataStocks3)\n",
    "cols.insert(0, cols.pop(cols.index('Weekday')))\n",
    "#cols\n",
    "dataStocks3 = dataStocks3.ix[:, cols]"
   ]
  },
  {
   "cell_type": "code",
   "execution_count": 1214,
   "metadata": {
    "collapsed": false
   },
   "outputs": [],
   "source": [
    "cols=list(dataStocks3)\n",
    "\n",
    "cols_to_drop = filter(lambda x: x.startswith('Adj'), cols)\n",
    "\n",
    "dataStocks3= dataStocks3.drop(cols_to_drop, axis=1)\n",
    "\n",
    "dataStocks3=dataStocks3.interpolate(method='time')\n",
    "\n",
    "dataStocks3=dataStocks3.fillna(dataStocks3.mean())\n",
    "\n",
    "dataStocks3[\"Direction\"] = np.sign(dataStocks3[\"Return_^GSPC\"])\n",
    "\n",
    "#dataStocks3.head()\n",
    "#count_NANs(dataStocks3)\n",
    "\n"
   ]
  },
  {
   "cell_type": "code",
   "execution_count": 1215,
   "metadata": {
    "collapsed": false
   },
   "outputs": [],
   "source": [
    "dataStocks3['Direction'] = dataStocks3['Direction'].shift(-1)\n",
    "dataStocks3 = dataStocks3.head(-1)\n",
    "\n"
   ]
  },
  {
   "cell_type": "code",
   "execution_count": 1216,
   "metadata": {
    "collapsed": false
   },
   "outputs": [
    {
     "data": {
      "text/plain": [
       "(2466, 470)"
      ]
     },
     "execution_count": 1216,
     "metadata": {},
     "output_type": "execute_result"
    }
   ],
   "source": [
    "le = preprocessing.LabelEncoder()\n",
    "dataStocks3.Direction[dataStocks3.Direction >= 0] = 'Up'\n",
    "dataStocks3.Direction[dataStocks3.Direction < 0] = 'Down'\n",
    "\n",
    "dataStocks3.Direction = le.fit(dataStocks3.Direction).transform(dataStocks3.Direction)\n",
    "#dataStocks3.tail()\n",
    "#dataStocks3['Direction']\n",
    "dataStocks3.shape"
   ]
  },
  {
   "cell_type": "code",
   "execution_count": 1217,
   "metadata": {
    "collapsed": false
   },
   "outputs": [
    {
     "data": {
      "text/plain": [
       "Index([u'Weekday', u'Return_^N225', u'^N225_MultiDay1', u'^N225_RolMean1',\n",
       "       u'^N225_MultiDay2', u'^N225_RolMean2', u'^N225_MultiDay3',\n",
       "       u'^N225_RolMean3', u'^N225_MultiDay4', u'^N225_RolMean4',\n",
       "       ...\n",
       "       u'^GSPC_MultiDay15', u'^GSPC_RolMean15', u'^GSPC_MultiDay16',\n",
       "       u'^GSPC_RolMean16', u'^GSPC_MultiDay17', u'^GSPC_RolMean17',\n",
       "       u'^GSPC_MultiDay18', u'^GSPC_RolMean18', u'^GSPC_MultiDay19',\n",
       "       u'^GSPC_RolMean19'],\n",
       "      dtype='object', length=469)"
      ]
     },
     "execution_count": 1217,
     "metadata": {},
     "output_type": "execute_result"
    }
   ],
   "source": [
    "features=dataStocks3.columns[0:469]\n",
    "target='Direction'\n",
    "#features\n",
    "X=dataStocks3[features]\n",
    "#direction prection \n",
    "y=dataStocks3[target]\n",
    "\n",
    "features"
   ]
  },
  {
   "cell_type": "code",
   "execution_count": 1218,
   "metadata": {
    "collapsed": true
   },
   "outputs": [],
   "source": [
    "#X_train, X_test, y_train, y_test = cross_validation.train_test_split(X, y, test_size=0.4, random_state=None)\n",
    "\n",
    "start_test=parser.parse('2014-11-1')\n",
    "\n",
    "X_train = X[X.index < start_test]\n",
    "X_test = X[X.index >= start_test]\n",
    "y_train = y[y.index < start_test]\n",
    "y_test = y[y.index >= start_test]"
   ]
  },
  {
   "cell_type": "code",
   "execution_count": 1219,
   "metadata": {
    "collapsed": false
   },
   "outputs": [
    {
     "data": {
      "text/plain": [
       "RandomForestClassifier(bootstrap=True, class_weight=None, criterion='gini',\n",
       "            max_depth=None, max_features='auto', max_leaf_nodes=None,\n",
       "            min_samples_leaf=1, min_samples_split=2,\n",
       "            min_weight_fraction_leaf=0.0, n_estimators=500, n_jobs=1,\n",
       "            oob_score=False, random_state=None, verbose=0,\n",
       "            warm_start=False)"
      ]
     },
     "execution_count": 1219,
     "metadata": {},
     "output_type": "execute_result"
    }
   ],
   "source": [
    "# Instantiate model\n",
    "rf = ensemble.RandomForestClassifier(n_estimators=500,random_state=None)\n",
    "\n",
    "# Train model on training set\n",
    "rf.fit(X_train, y_train)"
   ]
  },
  {
   "cell_type": "code",
   "execution_count": 1220,
   "metadata": {
    "collapsed": false
   },
   "outputs": [
    {
     "name": "stdout",
     "output_type": "stream",
     "text": [
      "Accuracy: 1.000\n",
      "Accuracy: 0.510\n"
     ]
    }
   ],
   "source": [
    "# Evaluate model on train set\n",
    "print \"Accuracy: %0.3f\" % rf.score(X_train, y_train)\n",
    "# Evaluate model on test set\n",
    "print \"Accuracy: %0.3f\" % rf.score(X_test, y_test)"
   ]
  },
  {
   "cell_type": "code",
   "execution_count": 1221,
   "metadata": {
    "collapsed": false,
    "scrolled": false
   },
   "outputs": [
    {
     "name": "stdout",
     "output_type": "stream",
     "text": [
      "Best Params:\n",
      "{'max_depth': 10, 'min_samples_leaf': 4}\n",
      "Accuracy using best param: 0.532\n"
     ]
    }
   ],
   "source": [
    "# Set list of values to grid search over\n",
    "l = range(1, 10)\n",
    "d = [10, 20, 30]\n",
    "params = {'min_samples_leaf': l, 'max_depth': d}\n",
    "\n",
    "# Perform grid search using list of values\n",
    "gs = grid_search.GridSearchCV(\n",
    "    estimator=ensemble.RandomForestClassifier(n_estimators=20),\n",
    "    param_grid=params)\n",
    "gs.fit(X_train, y_train)\n",
    "\n",
    "# Get best value to use\n",
    "print \"Best Params:\"\n",
    "print gs.best_params_\n",
    "\n",
    "# Get improvement\n",
    "print \"Accuracy using best param: %0.3f\" % gs.best_score_"
   ]
  },
  {
   "cell_type": "code",
   "execution_count": 1222,
   "metadata": {
    "collapsed": true
   },
   "outputs": [],
   "source": [
    "def sorted(s, num):\n",
    "    tmp = s.order(ascending=False)[:num]\n",
    "    tmp.index = range(num)\n",
    "    return tmp"
   ]
  },
  {
   "cell_type": "code",
   "execution_count": 1223,
   "metadata": {
    "collapsed": false
   },
   "outputs": [
    {
     "name": "stderr",
     "output_type": "stream",
     "text": [
      "/Users/connorfreeberg/anaconda2/lib/python2.7/site-packages/ipykernel/__main__.py:2: FutureWarning: order is deprecated, use sort_values(...)\n",
      "  from ipykernel import kernelapp as app\n"
     ]
    },
    {
     "data": {
      "text/plain": [
       "<matplotlib.axes._subplots.AxesSubplot at 0x125e4c990>"
      ]
     },
     "execution_count": 1223,
     "metadata": {},
     "output_type": "execute_result"
    },
    {
     "data": {
      "image/png": "[encoded data removed]",
      "text/plain": [
       "<matplotlib.figure.Figure at 0x12a02a090>"
      ]
     },
     "metadata": {},
     "output_type": "display_data"
    }
   ],
   "source": [
    "# Plot importances for all features\n",
    "features = X.columns\n",
    "feature_importances = rf.feature_importances_\n",
    "\n",
    "\n",
    "\n",
    "features_df = pd.DataFrame({'Features': features, 'Importance Score': feature_importances})\n",
    "features_df=features_df.apply(lambda x: sorted(x, 15))\n",
    "\n",
    "#features_df.sort_values('Importance Score', inplace=True, ascending=False)\n",
    "\n",
    "sns.barplot(y='Features', x='Importance Score', data=features_df)"
   ]
  },
  {
   "cell_type": "code",
   "execution_count": null,
   "metadata": {
    "collapsed": true
   },
   "outputs": [],
   "source": []
  },
  {
   "cell_type": "code",
   "execution_count": null,
   "metadata": {
    "collapsed": true
   },
   "outputs": [],
   "source": []
  },
  {
   "cell_type": "code",
   "execution_count": null,
   "metadata": {
    "collapsed": true
   },
   "outputs": [],
   "source": []
  },
  {
   "cell_type": "code",
   "execution_count": null,
   "metadata": {
    "collapsed": true
   },
   "outputs": [],
   "source": []
  },
  {
   "cell_type": "code",
   "execution_count": 902,
   "metadata": {
    "collapsed": false
   },
   "outputs": [
    {
     "data": {
      "text/html": [
       "<div>\n",
       "<table border=\"1\" class=\"dataframe\">\n",
       "  <thead>\n",
       "    <tr style=\"text-align: right;\">\n",
       "      <th></th>\n",
       "      <th>0</th>\n",
       "    </tr>\n",
       "  </thead>\n",
       "  <tbody>\n",
       "    <tr>\n",
       "      <th>0</th>\n",
       "      <td>1.0</td>\n",
       "    </tr>\n",
       "    <tr>\n",
       "      <th>1</th>\n",
       "      <td>2.0</td>\n",
       "    </tr>\n",
       "    <tr>\n",
       "      <th>2</th>\n",
       "      <td>NaN</td>\n",
       "    </tr>\n",
       "  </tbody>\n",
       "</table>\n",
       "</div>"
      ],
      "text/plain": [
       "     0\n",
       "0  1.0\n",
       "1  2.0\n",
       "2  NaN"
      ]
     },
     "execution_count": 902,
     "metadata": {},
     "output_type": "execute_result"
    }
   ],
   "source": [
    "jim1.shift(-1).head()"
   ]
  },
  {
   "cell_type": "code",
   "execution_count": 903,
   "metadata": {
    "collapsed": false
   },
   "outputs": [
    {
     "data": {
      "text/html": [
       "<div>\n",
       "<table border=\"1\" class=\"dataframe\">\n",
       "  <thead>\n",
       "    <tr style=\"text-align: right;\">\n",
       "      <th></th>\n",
       "      <th>0</th>\n",
       "    </tr>\n",
       "  </thead>\n",
       "  <tbody>\n",
       "    <tr>\n",
       "      <th>0</th>\n",
       "      <td>1.0</td>\n",
       "    </tr>\n",
       "    <tr>\n",
       "      <th>1</th>\n",
       "      <td>2.0</td>\n",
       "    </tr>\n",
       "  </tbody>\n",
       "</table>\n",
       "</div>"
      ],
      "text/plain": [
       "     0\n",
       "0  1.0\n",
       "1  2.0"
      ]
     },
     "execution_count": 903,
     "metadata": {},
     "output_type": "execute_result"
    }
   ],
   "source": [
    "jim1.shift(-1).head(-1)"
   ]
  },
  {
   "cell_type": "code",
   "execution_count": 897,
   "metadata": {
    "collapsed": false
   },
   "outputs": [],
   "source": [
    "?pd.DataFrame.shift()"
   ]
  },
  {
   "cell_type": "code",
   "execution_count": 906,
   "metadata": {
    "collapsed": false
   },
   "outputs": [
    {
     "data": {
      "text/plain": [
       "(247, 35)"
      ]
     },
     "execution_count": 906,
     "metadata": {},
     "output_type": "execute_result"
    }
   ],
   "source": [
    "#move 'Direction' values up back one\n",
    "\n",
    "\n",
    "\n",
    "\n",
    "dataStocks3.shape"
   ]
  },
  {
   "cell_type": "code",
   "execution_count": 907,
   "metadata": {
    "collapsed": false
   },
   "outputs": [
    {
     "data": {
      "text/html": [
       "<div>\n",
       "<table border=\"1\" class=\"dataframe\">\n",
       "  <thead>\n",
       "    <tr style=\"text-align: right;\">\n",
       "      <th></th>\n",
       "      <th>Weekday</th>\n",
       "      <th>Return_^N225</th>\n",
       "      <th>^N225_MultiDay1</th>\n",
       "      <th>^N225_RolMean1</th>\n",
       "      <th>Return_^IXIC</th>\n",
       "      <th>^IXIC_MultiDay1</th>\n",
       "      <th>^IXIC_RolMean1</th>\n",
       "      <th>Return_^GDAXI</th>\n",
       "      <th>^GDAXI_MultiDay1</th>\n",
       "      <th>^GDAXI_RolMean1</th>\n",
       "      <th>...</th>\n",
       "      <th>UUP_RolMean1</th>\n",
       "      <th>Return_^DJI</th>\n",
       "      <th>^DJI_MultiDay1</th>\n",
       "      <th>^DJI_RolMean1</th>\n",
       "      <th>Return_JNK</th>\n",
       "      <th>JNK_MultiDay1</th>\n",
       "      <th>JNK_RolMean1</th>\n",
       "      <th>Return_^GSPC</th>\n",
       "      <th>^GSPC_MultiDay1</th>\n",
       "      <th>^GSPC_RolMean1</th>\n",
       "    </tr>\n",
       "    <tr>\n",
       "      <th>Direction</th>\n",
       "      <th></th>\n",
       "      <th></th>\n",
       "      <th></th>\n",
       "      <th></th>\n",
       "      <th></th>\n",
       "      <th></th>\n",
       "      <th></th>\n",
       "      <th></th>\n",
       "      <th></th>\n",
       "      <th></th>\n",
       "      <th></th>\n",
       "      <th></th>\n",
       "      <th></th>\n",
       "      <th></th>\n",
       "      <th></th>\n",
       "      <th></th>\n",
       "      <th></th>\n",
       "      <th></th>\n",
       "      <th></th>\n",
       "      <th></th>\n",
       "      <th></th>\n",
       "    </tr>\n",
       "  </thead>\n",
       "  <tbody>\n",
       "    <tr>\n",
       "      <th>-1.0</th>\n",
       "      <td>129</td>\n",
       "      <td>129</td>\n",
       "      <td>129</td>\n",
       "      <td>129</td>\n",
       "      <td>129</td>\n",
       "      <td>129</td>\n",
       "      <td>129</td>\n",
       "      <td>129</td>\n",
       "      <td>129</td>\n",
       "      <td>129</td>\n",
       "      <td>...</td>\n",
       "      <td>129</td>\n",
       "      <td>129</td>\n",
       "      <td>129</td>\n",
       "      <td>129</td>\n",
       "      <td>129</td>\n",
       "      <td>129</td>\n",
       "      <td>129</td>\n",
       "      <td>129</td>\n",
       "      <td>129</td>\n",
       "      <td>129</td>\n",
       "    </tr>\n",
       "    <tr>\n",
       "      <th>1.0</th>\n",
       "      <td>118</td>\n",
       "      <td>118</td>\n",
       "      <td>118</td>\n",
       "      <td>118</td>\n",
       "      <td>118</td>\n",
       "      <td>118</td>\n",
       "      <td>118</td>\n",
       "      <td>118</td>\n",
       "      <td>118</td>\n",
       "      <td>118</td>\n",
       "      <td>...</td>\n",
       "      <td>118</td>\n",
       "      <td>118</td>\n",
       "      <td>118</td>\n",
       "      <td>118</td>\n",
       "      <td>118</td>\n",
       "      <td>118</td>\n",
       "      <td>118</td>\n",
       "      <td>118</td>\n",
       "      <td>118</td>\n",
       "      <td>118</td>\n",
       "    </tr>\n",
       "  </tbody>\n",
       "</table>\n",
       "<p>2 rows × 34 columns</p>\n",
       "</div>"
      ],
      "text/plain": [
       "           Weekday  Return_^N225  ^N225_MultiDay1  ^N225_RolMean1  \\\n",
       "Direction                                                           \n",
       "-1.0           129           129              129             129   \n",
       " 1.0           118           118              118             118   \n",
       "\n",
       "           Return_^IXIC  ^IXIC_MultiDay1  ^IXIC_RolMean1  Return_^GDAXI  \\\n",
       "Direction                                                                 \n",
       "-1.0                129              129             129            129   \n",
       " 1.0                118              118             118            118   \n",
       "\n",
       "           ^GDAXI_MultiDay1  ^GDAXI_RolMean1       ...        UUP_RolMean1  \\\n",
       "Direction                                          ...                       \n",
       "-1.0                    129              129       ...                 129   \n",
       " 1.0                    118              118       ...                 118   \n",
       "\n",
       "           Return_^DJI  ^DJI_MultiDay1  ^DJI_RolMean1  Return_JNK  \\\n",
       "Direction                                                           \n",
       "-1.0               129             129            129         129   \n",
       " 1.0               118             118            118         118   \n",
       "\n",
       "           JNK_MultiDay1  JNK_RolMean1  Return_^GSPC  ^GSPC_MultiDay1  \\\n",
       "Direction                                                               \n",
       "-1.0                 129           129           129              129   \n",
       " 1.0                 118           118           118              118   \n",
       "\n",
       "           ^GSPC_RolMean1  \n",
       "Direction                  \n",
       "-1.0                  129  \n",
       " 1.0                  118  \n",
       "\n",
       "[2 rows x 34 columns]"
      ]
     },
     "execution_count": 907,
     "metadata": {},
     "output_type": "execute_result"
    }
   ],
   "source": [
    "dataStocks3.groupby('Direction').count()"
   ]
  },
  {
   "cell_type": "code",
   "execution_count": 908,
   "metadata": {
    "collapsed": false
   },
   "outputs": [],
   "source": [
    "\n",
    "\n",
    "\n",
    "\n"
   ]
  },
  {
   "cell_type": "code",
   "execution_count": 909,
   "metadata": {
    "collapsed": false
   },
   "outputs": [],
   "source": [
    "\n",
    "\n"
   ]
  },
  {
   "cell_type": "code",
   "execution_count": 910,
   "metadata": {
    "collapsed": false
   },
   "outputs": [
    {
     "data": {
      "text/plain": [
       "0.4777327935222672"
      ]
     },
     "execution_count": 910,
     "metadata": {},
     "output_type": "execute_result"
    }
   ],
   "source": [
    "y.mean()"
   ]
  },
  {
   "cell_type": "code",
   "execution_count": 889,
   "metadata": {
    "collapsed": false
   },
   "outputs": [
    {
     "data": {
      "text/plain": [
       "Date\n",
       "2015-01-02    1\n",
       "2015-01-05    1\n",
       "2015-01-06    2\n",
       "2015-01-07    2\n",
       "2015-01-08    1\n",
       "Name: Direction, dtype: int64"
      ]
     },
     "execution_count": 889,
     "metadata": {},
     "output_type": "execute_result"
    }
   ],
   "source": []
  },
  {
   "cell_type": "code",
   "execution_count": 911,
   "metadata": {
    "collapsed": false
   },
   "outputs": [
    {
     "data": {
      "text/plain": [
       "{0, 1}"
      ]
     },
     "execution_count": 911,
     "metadata": {},
     "output_type": "execute_result"
    }
   ],
   "source": [
    "set(y)"
   ]
  },
  {
   "cell_type": "code",
   "execution_count": 912,
   "metadata": {
    "collapsed": false
   },
   "outputs": [],
   "source": [
    "\n",
    "\n",
    "\n"
   ]
  },
  {
   "cell_type": "code",
   "execution_count": 913,
   "metadata": {
    "collapsed": false
   },
   "outputs": [
    {
     "data": {
      "text/plain": [
       "RandomForestClassifier(bootstrap=True, class_weight=None, criterion='gini',\n",
       "            max_depth=None, max_features='auto', max_leaf_nodes=None,\n",
       "            min_samples_leaf=1, min_samples_split=2,\n",
       "            min_weight_fraction_leaf=0.0, n_estimators=500, n_jobs=1,\n",
       "            oob_score=False, random_state=None, verbose=0,\n",
       "            warm_start=False)"
      ]
     },
     "execution_count": 913,
     "metadata": {},
     "output_type": "execute_result"
    }
   ],
   "source": []
  },
  {
   "cell_type": "code",
   "execution_count": 914,
   "metadata": {
    "collapsed": false
   },
   "outputs": [
    {
     "name": "stdout",
     "output_type": "stream",
     "text": [
      "Accuracy: 1.000\n",
      "Accuracy: 0.517\n"
     ]
    }
   ],
   "source": []
  },
  {
   "cell_type": "code",
   "execution_count": 874,
   "metadata": {
    "collapsed": false
   },
   "outputs": [
    {
     "name": "stdout",
     "output_type": "stream",
     "text": [
      "Best Params:\n",
      "{'n_estimators': 2}\n",
      "Accuracy of current model: 0.541\n",
      "Accuracy using best param: 0.497\n"
     ]
    }
   ],
   "source": [
    "# Set list of values to grid search over\n",
    "n = [1, 2, 3, 10, 20, 30, 100, 200, 300]\n",
    "params = {'n_estimators': n}\n",
    "\n",
    "# Perform grid search using list of values\n",
    "gs = grid_search.GridSearchCV(\n",
    "    estimator=ensemble.RandomForestClassifier(random_state=None),\n",
    "    param_grid=params)\n",
    "gs.fit(X_train, y_train)\n",
    "\n",
    "# Get best value to use\n",
    "print \"Best Params:\"\n",
    "print gs.best_params_\n",
    "\n",
    "# Get improvement\n",
    "print \"Accuracy of current model: %0.3f\" % rf.score(X_test, y_test)\n",
    "print \"Accuracy using best param: %0.3f\" % gs.best_score_\n"
   ]
  },
  {
   "cell_type": "code",
   "execution_count": null,
   "metadata": {
    "collapsed": true
   },
   "outputs": [],
   "source": []
  },
  {
   "cell_type": "code",
   "execution_count": null,
   "metadata": {
    "collapsed": false
   },
   "outputs": [],
   "source": [
    "\n",
    "\n",
    "#adding lag\n",
    "\n",
    "#lags=range(4)\n",
    "\n",
    "\n",
    "#cols=list(dataStocks3) \n",
    "#columns = filter(lambda x: x.startswith('Return'), cols)\n",
    "#for column in columns:\n",
    "    #for lag in lags:\n",
    "       # newcolumn = column + str(lag)\n",
    "        #dataStocks3[newcolumn] = dataStocks3[column].shift(lag)\n",
    "    \n",
    "\n",
    "\n",
    "#dataStocks3.head()\n",
    "\n"
   ]
  },
  {
   "cell_type": "code",
   "execution_count": null,
   "metadata": {
    "collapsed": true
   },
   "outputs": [],
   "source": []
  },
  {
   "cell_type": "code",
   "execution_count": null,
   "metadata": {
    "collapsed": true
   },
   "outputs": [],
   "source": []
  },
  {
   "cell_type": "code",
   "execution_count": null,
   "metadata": {
    "collapsed": false
   },
   "outputs": [],
   "source": [
    "import datetime\n",
    "import numpy as np\n",
    "import pandas as pd\n",
    "import sklearn\n",
    "\n",
    "from pandas.io.data import DataReader\n",
    "from sklearn.linear_model import LogisticRegression\n",
    "from sklearn.lda import LDA\n",
    "from sklearn.qda import QDA\n",
    "\n",
    "\n",
    "\n",
    "def create_lagged_series(symbol, start_date, end_date, lags=5):\n",
    "\n",
    "    # Obtain stock information from Yahoo Finance\n",
    "    ts = DataReader(symbol, \"yahoo\", start_date-datetime.timedelta(days=365), end_date)\n",
    "\n",
    "    # Create the new lagged DataFrame\n",
    "    tslag = pd.DataFrame(index=ts.index)\n",
    "    tslag[\"Today\"] = ts[\"Adj Close\"]\n",
    "    tslag[\"Volume\"] = ts[\"Volume\"]\n",
    "\n",
    "    # Create the shifted lag series of prior trading period close values\n",
    "    for i in xrange(0,lags):\n",
    "        tslag[\"Lag%s\" % str(i+1)] = ts[\"Adj Close\"].shift(i+1)\n",
    "\n",
    "    # Create the returns DataFrame\n",
    "    tsret = pd.DataFrame(index=tslag.index)\n",
    "    tsret[\"Adj Close\"]=ts[\"Adj Close\"]\n",
    "    tsret[\"Today\"] = tslag[\"Today\"].pct_change()*100.0\n",
    "    \n",
    "        \n",
    "    \n",
    "    \n",
    "    # If any of the values of percentage returns equal zero, set them to\n",
    "    # a small number (stops issues with QDA model in scikit-learn)\n",
    "    for i,x in enumerate(tsret[\"Today\"]):\n",
    "        if (abs(x) < 0.0001):\n",
    "            tsret[\"Today\"][i] = 0.0001\n",
    "\n",
    "    # Create the lagged percentage returns columns\n",
    "    for i in xrange(0,lags):\n",
    "        tsret[\"Lag%s\" % str(i+1)] = tslag[\"Lag%s\" % str(i+1)].pct_change()*100.0\n",
    "    \n",
    "    tsret = tsret[tsret.index >= start_date]\n",
    "    tsret.columns = tsret.columns + '_' + symbol\n",
    "    return tsret"
   ]
  },
  {
   "cell_type": "code",
   "execution_count": null,
   "metadata": {
    "collapsed": false
   },
   "outputs": [],
   "source": [
    "#test lag\n",
    "snpret=create_lagged_series(\"UUP\", datetime.datetime(2013,1,10), datetime.datetime(2014,12,31), lags=5)\n",
    "snpret.head()"
   ]
  },
  {
   "cell_type": "code",
   "execution_count": null,
   "metadata": {
    "collapsed": false
   },
   "outputs": [],
   "source": [
    "#Output\n"
   ]
  },
  {
   "cell_type": "code",
   "execution_count": null,
   "metadata": {
    "collapsed": false
   },
   "outputs": [],
   "source": [
    "#dataframes\n",
    "dataStocks=getAllStockData('^GSPC')\n",
    "dataStocks"
   ]
  },
  {
   "cell_type": "markdown",
   "metadata": {
    "collapsed": false
   },
   "source": [
    "As seen in the cell above, the function returns the dataframes as a list for each index with the corresponding 0 or +1 for up or down day. In the above function it takes the adjusted closing price and stores it \"today\". It then finds the returns of those prices and stores it over the adjusted close value. We don't need the adjusted close value because we are stricly looking at returns.You can also see that each lag number corresponds to how many days back the prices is lagged. The next couple of functions will add features to the dataset. These features will include rolling mean and multi-day return, which finds the difference in returns for different days. This will allow us to see how the mean is changing and how the returns are changing as well. "
   ]
  },
  {
   "cell_type": "code",
   "execution_count": null,
   "metadata": {
    "collapsed": true
   },
   "outputs": [],
   "source": [
    "\n",
    "def addFeatures(dataframe, adjclose, returns, n):\n",
    "    \"\"\"\n",
    "    operates on two columns of dataframe:\n",
    "    - n >= 2\n",
    "    - given Return_* computes the return of day i respect to day i-n. \n",
    "    - given AdjClose_* computes its moving average on n days\n",
    " \n",
    "    \"\"\"\n",
    "    \n",
    "    return_n = adjclose[9:] + \"_MultiDay\" + str(n)\n",
    "    dataframe[return_n] = dataframe[adjclose].pct_change(n)\n",
    "    \n",
    "    roll_n = returns[7:] + \"_RolMean\" + str(n)\n",
    "    dataframe[roll_n] = pd.rolling_mean(dataframe[returns], n)"
   ]
  },
  {
   "cell_type": "code",
   "execution_count": null,
   "metadata": {
    "collapsed": true
   },
   "outputs": [],
   "source": [
    "\n",
    "def applyRollMeanDelayedReturns(datasets, delta):\n",
    "    \"\"\"\n",
    "    applies rolling mean and delayed returns to each dataframe in the list\n",
    "    \"\"\"\n",
    "    for dataset in datasets:\n",
    "        columns = dataset.columns    \n",
    "        adjclose = columns[0]\n",
    "        returns = columns[1]\n",
    "        for n in delta:\n",
    "            addFeatures(dataset, adjclose, returns, n)\n",
    "    \n",
    "    return datasets    "
   ]
  },
  {
   "cell_type": "markdown",
   "metadata": {},
   "source": [
    "Cell below will merge all of the dataframes together. I can see where issues will arise with holidays being different for various countries. I will need a way to adjust for that. "
   ]
  },
  {
   "cell_type": "code",
   "execution_count": null,
   "metadata": {
    "collapsed": false
   },
   "outputs": [],
   "source": [
    "applyRollMeanDelayedReturns(dataStocks,range(1,2))"
   ]
  },
  {
   "cell_type": "code",
   "execution_count": null,
   "metadata": {
    "collapsed": false
   },
   "outputs": [],
   "source": []
  },
  {
   "cell_type": "code",
   "execution_count": null,
   "metadata": {
    "collapsed": true
   },
   "outputs": [],
   "source": [
    "#Merge datasets\n",
    "\n",
    "def mergeDataframes(datasets, index):\n",
    "    \n",
    "    subset = []\n",
    "    subset = [dataset.iloc[:, index:] for dataset in datasets[1:]]\n",
    "    \n",
    "    first = subset[0].join(subset[1:], how = 'outer')\n",
    "    finance = datasets[0].iloc[:, index:].join(first, how = 'left') \n",
    "    return finance"
   ]
  },
  {
   "cell_type": "code",
   "execution_count": null,
   "metadata": {
    "collapsed": false
   },
   "outputs": [],
   "source": [
    "dataStocks=getAllStockData('^GSPC')\n",
    "dataStocks=applyRollMeanDelayedReturns(dataStocks,range(1,2)) \n",
    "dataStocks=mergeDataframes(dataStocks,0)\n",
    "dataStocks['Today_^GSPC']=dataStocks['Today_^GSPC'].shift(-1)\n",
    "dataStocks['Direction'] = np.sign(dataStocks['Today_^GSPC'])\n",
    "start_date=datetime.datetime(2015,1,1)\n",
    "dataStocks = dataStocks[dataStocks.index >= start_date]\n",
    "dataStocks.head()\n",
    "#cols = filter(lambda x: x.startswith('Adj'), dataStocks.columns)\n",
    "\n",
    "#dataStocks=dataStocks.drop(dataStocks.columns[[cols]], axis=0, inplace=True)\n",
    "#dataStocks=dataStocks[cols].drop(axis=1)\n",
    "#dataStocks"
   ]
  },
  {
   "cell_type": "code",
   "execution_count": null,
   "metadata": {
    "collapsed": false
   },
   "outputs": [],
   "source": [
    "all_cols = list(dataStocks.columns)\n",
    "\n",
    "print all_cols"
   ]
  },
  {
   "cell_type": "code",
   "execution_count": null,
   "metadata": {
    "collapsed": false
   },
   "outputs": [],
   "source": [
    "cols_to_drop = filter(lambda x: x.startswith('Adj'), all_cols)"
   ]
  },
  {
   "cell_type": "code",
   "execution_count": null,
   "metadata": {
    "collapsed": false
   },
   "outputs": [],
   "source": [
    "cols_to_drop"
   ]
  },
  {
   "cell_type": "code",
   "execution_count": null,
   "metadata": {
    "collapsed": false
   },
   "outputs": [],
   "source": [
    "dataStocks= dataStocks.drop(cols_to_drop, axis=1)\n",
    "\n",
    "dataStocks.head()"
   ]
  },
  {
   "cell_type": "code",
   "execution_count": null,
   "metadata": {
    "collapsed": false
   },
   "outputs": [],
   "source": [
    "dataStocks = dataStocks.interpolate(method='time')\n",
    "#fill left overs with mean\n",
    "dataStocks=dataStocks.fillna(dataStocks.mean())\n",
    "#set features\n",
    "count_NANs(dataStocks)\n"
   ]
  },
  {
   "cell_type": "code",
   "execution_count": null,
   "metadata": {
    "collapsed": false
   },
   "outputs": [],
   "source": []
  },
  {
   "cell_type": "code",
   "execution_count": null,
   "metadata": {
    "collapsed": false
   },
   "outputs": [],
   "source": [
    "dataStocks=dataStocks.fillna(dataStocks.mean())\n",
    "count_NANs(dataStocks)"
   ]
  },
  {
   "cell_type": "code",
   "execution_count": null,
   "metadata": {
    "collapsed": false
   },
   "outputs": [],
   "source": [
    "\n"
   ]
  },
  {
   "cell_type": "markdown",
   "metadata": {},
   "source": [
    "Below creates a test and train set, while also applying categorical variables to the returns of the S&P 500. Up for postive returns and down for negative returns. We will then go through the classification process to find the best features and model. These methods include: random forrest, k nearest neighbors, support vector machines, adaptive boosting, gradient tree boosting,and quadratic discriminant analysis. I may need to add more features to the data set to get a better representative of the movements. I may need to adjust my variables as well by picking indices that better represent the market movements. "
   ]
  },
  {
   "cell_type": "code",
   "execution_count": null,
   "metadata": {
    "collapsed": true
   },
   "outputs": [],
   "source": [
    "\n"
   ]
  },
  {
   "cell_type": "code",
   "execution_count": null,
   "metadata": {
    "collapsed": false
   },
   "outputs": [],
   "source": [
    "#from sklearn import preprocessing\n",
    "#le = preprocessing.LabelEncoder()\n",
    "       \n",
    "#dataStocks['UpDown'] = dataStocks['Today_^GSPC']\n",
    "#dataStocks.UpDown[dataStocks.UpDown >= 0] = 'Up'\n",
    "#dataStocks.UpDown[dataStocks.UpDown < 0] = 'Down'\n",
    "#dataStocks.UpDown = le.fit(dataStocks.UpDown).transform(dataStocks.UpDown)\n",
    "#features = dataStocks.columns[1:65]\n",
    "#target=dataStocks.columns[66]\n",
    "#print features\n",
    "3 target\n",
    "#print count_NANs(dataStocks)\n",
    "#print dataStocks.isnull().sum()\n",
    "### splitting in train and test set\n",
    "#index = int(np.floor(dataStocks.shape[0]*0.8))\n",
    "#train, test = dataStocks[:index], dataStocks[index:]\n",
    "#print 'Size of train set: ', train.shape\n",
    "#print 'Size of test set: ', test.shape "
   ]
  },
  {
   "cell_type": "code",
   "execution_count": null,
   "metadata": {
    "collapsed": false
   },
   "outputs": [],
   "source": [
    "#from sklearn.ensemble import RandomForestClassifier\n",
    "#forest = RandomForestClassifier(n_estimators=1000, n_jobs=-1)\n",
    "#forest = forest.fit(train[features], train['UpDown'])\n",
    "#print forest.score(test[features],test['UpDown'])"
   ]
  },
  {
   "cell_type": "code",
   "execution_count": null,
   "metadata": {
    "collapsed": false
   },
   "outputs": [],
   "source": [
    "def UpDownDay(dataset, start_test):\n",
    "\n",
    "    le = preprocessing.LabelEncoder()\n",
    "    \n",
    "    dataset['UpDown'] = dataset['Today_^GSPC']\n",
    "    dataset.UpDown[dataset.UpDown >= 0] = 'Up'\n",
    "    dataset.UpDown[dataset.UpDown < 0] = 'Down'\n",
    "    dataset.UpDown = le.fit(dataset.UpDown).transform(dataset.UpDown)\n",
    "    \n",
    "    features = dataset.columns[1:]\n",
    "    X = dataset[features]    \n",
    "    y = dataset.UpDown    \n",
    "    \n",
    "    X_train = X[X.index < start_test]\n",
    "    y_train = y[y.index < start_test]              \n",
    "    \n",
    "    X_test = X[X.index >= start_test]    \n",
    "    y_test = y[y.index >= start_test]\n",
    "    \n",
    "    return X_train, y_train, X_test, y_test   "
   ]
  },
  {
   "cell_type": "code",
   "execution_count": null,
   "metadata": {
    "collapsed": true
   },
   "outputs": [],
   "source": []
  },
  {
   "cell_type": "code",
   "execution_count": null,
   "metadata": {
    "collapsed": false
   },
   "outputs": [],
   "source": []
  },
  {
   "cell_type": "code",
   "execution_count": null,
   "metadata": {
    "collapsed": false
   },
   "outputs": [],
   "source": [
    "\n",
    "def RandomForrest(X_train, y_train, X_test, y_test, parameters):\n",
    "    \n",
    "    clf = RandomForestClassifier(n_estimators=1000, n_jobs=-1)\n",
    "    clf.fit(X_train, y_train)   \n",
    "    \n",
    "    accuracy = clf.score(X_test, y_test)\n",
    "    \n",
    "    return accuracy"
   ]
  },
  {
   "cell_type": "code",
   "execution_count": null,
   "metadata": {
    "collapsed": false
   },
   "outputs": [],
   "source": [
    "# K-Nearest Neighbors\n",
    "def KNN(X_train, y_train, X_test, y_test, parameters):\n",
    "    \n",
    "    clf = neighbors.KNeighborsClassifier()\n",
    "    clf.fit(X_train, y_train)\n",
    "    \n",
    "    \n",
    "    accuracy = clf.score(X_test, y_test)\n",
    "    \n",
    "    return accuracy"
   ]
  },
  {
   "cell_type": "code",
   "execution_count": null,
   "metadata": {
    "collapsed": false
   },
   "outputs": [],
   "source": [
    "#Support Vector Machines\n",
    "def SVM(X_train, y_train, X_test, y_test, parameters):\n",
    "  \n",
    "    c = parameters[0]\n",
    "    g =  parameters[1]\n",
    "    clf = SVC()\n",
    "    clf.fit(X_train, y_train)\n",
    " \n",
    "    \n",
    "    accuracy = clf.score(X_test, y_test)\n",
    "    \n",
    "    return accuracy\n",
    "\n"
   ]
  },
  {
   "cell_type": "code",
   "execution_count": null,
   "metadata": {
    "collapsed": false
   },
   "outputs": [],
   "source": [
    "#Adaptive Boosting\n",
    "\n",
    "def AdaptBoostClass(X_train, y_train, X_test, y_test, parameters):\n",
    "    \"\"\"\n",
    "    Ada Boosting binary Classification\n",
    "    \"\"\"\n",
    "    n = parameters[0]\n",
    "    l =  parameters[1]\n",
    "    clf = AdaBoostClassifier()\n",
    "    clf.fit(X_train, y_train)\n",
    "    \n",
    "    \n",
    "    accuracy = clf.score(X_test, y_test)\n",
    "    \n",
    "    return accuracy"
   ]
  },
  {
   "cell_type": "code",
   "execution_count": null,
   "metadata": {
    "collapsed": false
   },
   "outputs": [],
   "source": [
    "#Gradient Tree Boosting\n",
    "def GradientTreeBoost(X_train, y_train, X_test, y_test, parameters):\n",
    " \n",
    "    clf = GradientBoostingClassifier(n_estimators=100)\n",
    "    clf.fit(X_train, y_train)\n",
    " \n",
    "    \n",
    "    accuracy = clf.score(X_test, y_test)\n",
    "    \n",
    "    return accuracy"
   ]
  },
  {
   "cell_type": "code",
   "execution_count": null,
   "metadata": {
    "collapsed": true
   },
   "outputs": [],
   "source": [
    "#Quadratic Discriminiatve Analysis\n",
    "\n",
    "def GDA(X_train, y_train, X_test, y_test, parameters):\n",
    "   \n",
    "  \n",
    "    \n",
    "    X_train = X_train.apply(replaceTiny)\n",
    "    X_test = X_test.apply(replaceTiny)\n",
    "    \n",
    "    clf = QDA()\n",
    "    clf.fit(X_train, y_train)\n",
    " \n",
    "   \n",
    "    \n",
    "    accuracy = clf.score(X_test, y_test)\n",
    "    \n",
    "    return accuracy"
   ]
  },
  {
   "cell_type": "code",
   "execution_count": null,
   "metadata": {
    "collapsed": false
   },
   "outputs": [],
   "source": [
    "\n"
   ]
  },
  {
   "cell_type": "code",
   "execution_count": null,
   "metadata": {
    "collapsed": true
   },
   "outputs": [],
   "source": []
  }
 ],
 "metadata": {
  "kernelspec": {
   "display_name": "Python 2",
   "language": "python",
   "name": "python2"
  },
  "language_info": {
   "codemirror_mode": {
    "name": "ipython",
    "version": 2
   },
   "file_extension": ".py",
   "mimetype": "text/x-python",
   "name": "python",
   "nbconvert_exporter": "python",
   "pygments_lexer": "ipython2",
   "version": "2.7.11"
  }
 },
 "nbformat": 4,
 "nbformat_minor": 0
}
